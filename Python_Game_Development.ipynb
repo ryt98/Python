{
  "nbformat": 4,
  "nbformat_minor": 0,
  "metadata": {
    "colab": {
      "name": "Python Game Development",
      "provenance": [],
      "authorship_tag": "ABX9TyMdUD60apvHJcM0B1rMfJ7b",
      "include_colab_link": true
    },
    "kernelspec": {
      "name": "python3",
      "display_name": "Python 3"
    },
    "language_info": {
      "name": "python"
    }
  },
  "cells": [
    {
      "cell_type": "markdown",
      "metadata": {
        "id": "view-in-github",
        "colab_type": "text"
      },
      "source": [
        "<a href=\"https://colab.research.google.com/github/ryt98/Python/blob/Master/Python_Game_Development.ipynb\" target=\"_parent\"><img src=\"https://colab.research.google.com/assets/colab-badge.svg\" alt=\"Open In Colab\"/></a>"
      ]
    },
    {
      "cell_type": "markdown",
      "source": [
        "GAME 1: GUESS THE NUMBER"
      ],
      "metadata": {
        "id": "pgfPJb81amqE"
      }
    },
    {
      "cell_type": "code",
      "source": [
        ""
      ],
      "metadata": {
        "id": "cfev_adDiVEp"
      },
      "execution_count": null,
      "outputs": []
    },
    {
      "cell_type": "code",
      "execution_count": null,
      "metadata": {
        "colab": {
          "base_uri": "https://localhost:8080/"
        },
        "id": "RxOuuL1sZxSj",
        "outputId": "3d598703-75bd-4217-d0b5-395f8eb2fd16"
      },
      "outputs": [
        {
          "output_type": "stream",
          "name": "stdout",
          "text": [
            "---GUESS THE NUMBER---\n",
            "COMPUTER SELECTED A NUMBER FROM 1 to 50\n",
            "\n",
            "Guess the number: 25\n",
            "The number is HIGHER.\n",
            "\n",
            "Guess the number: 30\n",
            "The number is LOWER.\n",
            "\n",
            "Guess the number: 26\n",
            "The number is HIGHER.\n",
            "\n",
            "Guess the number: 27\n",
            "Nice guess, you won !\n"
          ]
        }
      ],
      "source": [
        "from random import randint    #import random interget from ramdom module \n",
        "\n",
        "start = 1   #start variable is 1\n",
        "end = 50   #end variable is 50\n",
        "#randit function, generate random number from 1 to 50\n",
        "value = randint(start, end)  \n",
        "\n",
        "print (\"---GUESS THE NUMBER---\")\n",
        "print (\"COMPUTER SELECTED A NUMBER FROM\", start, \"to\", end)\n",
        "\n",
        "while guess != value:   #guess in not equal to value\n",
        "    text = input(\"\\nGuess the number: \")    #required user to input number\n",
        "    guess = int(text)   #user guess number in interger\n",
        "    \n",
        "    if guess < value:   #guess value lower than real value\n",
        "        print(\"The number is HIGHER.\")\n",
        "    elif guess > value:   #guess value higher than real value\n",
        "        print(\"The number is LOWER.\")\n",
        "print(\"Nice guess, you won !\")"
      ]
    }
  ]
}